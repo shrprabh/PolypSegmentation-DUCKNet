{
  "nbformat": 4,
  "nbformat_minor": 0,
  "metadata": {
    "colab": {
      "provenance": [],
      "gpuType": "T4",
      "mount_file_id": "1wKzqw1elHipOAmplhmKy4xu2ZsIeZAPp",
      "authorship_tag": "ABX9TyOgM0u1q/1oZwPNcEFrk5oU",
      "include_colab_link": true
    },
    "kernelspec": {
      "name": "python3",
      "display_name": "Python 3"
    },
    "language_info": {
      "name": "python"
    },
    "accelerator": "GPU"
  },
  "cells": [
    {
      "cell_type": "markdown",
      "metadata": {
        "id": "view-in-github",
        "colab_type": "text"
      },
      "source": [
        "<a href=\"https://colab.research.google.com/github/shrprabh/PolypSegmentation-DUCKNet/blob/main/DucknetBrainSegmentation.ipynb\" target=\"_parent\"><img src=\"https://colab.research.google.com/assets/colab-badge.svg\" alt=\"Open In Colab\"/></a>"
      ]
    },
    {
      "cell_type": "markdown",
      "source": [
        "#  Enable GPU in Google Colab"
      ],
      "metadata": {
        "id": "GBai_oDclMIM"
      }
    },
    {
      "cell_type": "markdown",
      "source": [
        "## Confirming if GPU is enabled"
      ],
      "metadata": {
        "id": "oEBUSZQDlao1"
      }
    },
    {
      "cell_type": "code",
      "source": [
        "import tensorflow as tf\n",
        "print(\"Num GPUs Available: \", len(tf.config.experimental.list_physical_devices('GPU')))\n"
      ],
      "metadata": {
        "id": "qz9G9eRMlYDa",
        "colab": {
          "base_uri": "https://localhost:8080/"
        },
        "outputId": "352b24a6-3267-4fd0-be16-05391240da9b"
      },
      "execution_count": 1,
      "outputs": [
        {
          "output_type": "stream",
          "name": "stdout",
          "text": [
            "Num GPUs Available:  1\n"
          ]
        }
      ]
    },
    {
      "cell_type": "markdown",
      "source": [
        "# Checking GPU details and current utilization"
      ],
      "metadata": {
        "id": "uksIsqhalkJI"
      }
    },
    {
      "cell_type": "code",
      "execution_count": 2,
      "metadata": {
        "id": "DFJ8oX2bLT_p",
        "colab": {
          "base_uri": "https://localhost:8080/"
        },
        "outputId": "179d101a-09da-4079-d8c8-31150abec65e"
      },
      "outputs": [
        {
          "output_type": "stream",
          "name": "stdout",
          "text": [
            "Wed Oct 16 01:50:15 2024       \n",
            "+---------------------------------------------------------------------------------------+\n",
            "| NVIDIA-SMI 535.104.05             Driver Version: 535.104.05   CUDA Version: 12.2     |\n",
            "|-----------------------------------------+----------------------+----------------------+\n",
            "| GPU  Name                 Persistence-M | Bus-Id        Disp.A | Volatile Uncorr. ECC |\n",
            "| Fan  Temp   Perf          Pwr:Usage/Cap |         Memory-Usage | GPU-Util  Compute M. |\n",
            "|                                         |                      |               MIG M. |\n",
            "|=========================================+======================+======================|\n",
            "|   0  Tesla T4                       Off | 00000000:00:04.0 Off |                    0 |\n",
            "| N/A   45C    P8               9W /  70W |      3MiB / 15360MiB |      0%      Default |\n",
            "|                                         |                      |                  N/A |\n",
            "+-----------------------------------------+----------------------+----------------------+\n",
            "                                                                                         \n",
            "+---------------------------------------------------------------------------------------+\n",
            "| Processes:                                                                            |\n",
            "|  GPU   GI   CI        PID   Type   Process name                            GPU Memory |\n",
            "|        ID   ID                                                             Usage      |\n",
            "|=======================================================================================|\n",
            "|  No running processes found                                                           |\n",
            "+---------------------------------------------------------------------------------------+\n"
          ]
        }
      ],
      "source": [
        "!nvidia-smi\n"
      ]
    },
    {
      "cell_type": "code",
      "source": [
        "from google.colab import drive\n",
        "drive.mount('/content/drive')"
      ],
      "metadata": {
        "colab": {
          "base_uri": "https://localhost:8080/"
        },
        "id": "0APDb8N1LWSI",
        "outputId": "ff98a111-f1c1-4b5b-de9d-71fcc5d9e1ea"
      },
      "execution_count": 3,
      "outputs": [
        {
          "output_type": "stream",
          "name": "stdout",
          "text": [
            "Drive already mounted at /content/drive; to attempt to forcibly remount, call drive.mount(\"/content/drive\", force_remount=True).\n"
          ]
        }
      ]
    },
    {
      "cell_type": "code",
      "source": [
        "!ls '/content/drive/MyDrive/Colab Notebooks/DUCK-Net-Colab/'\n",
        "\n",
        "%pip install tensorflow\n",
        "%pip install albumentations\n",
        "%pip install matplotlib\n",
        "%pip install scikit-learn\n",
        "%pip install opencv-python\n",
        "%pip install opencv-python-headless\n",
        "%pip install opencv-contrib-python\n",
        "%pip install tqdm\n",
        "import sys\n",
        "sys.path.append('/content/drive/MyDrive/Colab Notebooks/DUCK-Net-Colab/')  # Replace with the actual path to your module\n",
        "# Importing the necessary libraries\n",
        "import tensorflow as tf\n",
        "import albumentations as albu\n",
        "import numpy as np\n",
        "import gc\n",
        "import pickle\n",
        "import matplotlib.pyplot as plt\n",
        "from tensorflow.keras.callbacks import CSVLogger  # Import Keras from TensorFlow\n",
        "from datetime import datetime\n",
        "from sklearn.model_selection import train_test_split\n",
        "from sklearn.metrics import jaccard_score, precision_score, recall_score, accuracy_score, f1_score\n",
        "\n",
        "from ModelArchitecture.DiceLoss import dice_metric_loss\n",
        "from ModelArchitecture import DUCK_Net\n",
        "from ImageLoader import ImageLoader2D\n"
      ],
      "metadata": {
        "colab": {
          "base_uri": "https://localhost:8080/"
        },
        "id": "v3Wk-tYKMEnk",
        "outputId": "f31e3c59-0b10-48e7-fd85-ea8178299bb9"
      },
      "execution_count": 4,
      "outputs": [
        {
          "output_type": "stream",
          "name": "stdout",
          "text": [
            "CustomLayers\tImageLoader\t     ModelSaveTensorFLow     requirements.txt\n",
            "DataSet\t\tLICENSE\t\t     ProgressFull\t     results_DuckNet_17_kvasir.txt\n",
            "DUCK-Block.png\tModelArchitecture    QualitativeResults.png  Table1.png\n",
            "DUCK-Net.png\tModelNotebook.ipynb  README.md\n",
            "Requirement already satisfied: tensorflow in /usr/local/lib/python3.10/dist-packages (2.17.0)\n",
            "Requirement already satisfied: absl-py>=1.0.0 in /usr/local/lib/python3.10/dist-packages (from tensorflow) (1.4.0)\n",
            "Requirement already satisfied: astunparse>=1.6.0 in /usr/local/lib/python3.10/dist-packages (from tensorflow) (1.6.3)\n",
            "Requirement already satisfied: flatbuffers>=24.3.25 in /usr/local/lib/python3.10/dist-packages (from tensorflow) (24.3.25)\n",
            "Requirement already satisfied: gast!=0.5.0,!=0.5.1,!=0.5.2,>=0.2.1 in /usr/local/lib/python3.10/dist-packages (from tensorflow) (0.6.0)\n",
            "Requirement already satisfied: google-pasta>=0.1.1 in /usr/local/lib/python3.10/dist-packages (from tensorflow) (0.2.0)\n",
            "Requirement already satisfied: h5py>=3.10.0 in /usr/local/lib/python3.10/dist-packages (from tensorflow) (3.11.0)\n",
            "Requirement already satisfied: libclang>=13.0.0 in /usr/local/lib/python3.10/dist-packages (from tensorflow) (18.1.1)\n",
            "Requirement already satisfied: ml-dtypes<0.5.0,>=0.3.1 in /usr/local/lib/python3.10/dist-packages (from tensorflow) (0.4.1)\n",
            "Requirement already satisfied: opt-einsum>=2.3.2 in /usr/local/lib/python3.10/dist-packages (from tensorflow) (3.4.0)\n",
            "Requirement already satisfied: packaging in /usr/local/lib/python3.10/dist-packages (from tensorflow) (24.1)\n",
            "Requirement already satisfied: protobuf!=4.21.0,!=4.21.1,!=4.21.2,!=4.21.3,!=4.21.4,!=4.21.5,<5.0.0dev,>=3.20.3 in /usr/local/lib/python3.10/dist-packages (from tensorflow) (3.20.3)\n",
            "Requirement already satisfied: requests<3,>=2.21.0 in /usr/local/lib/python3.10/dist-packages (from tensorflow) (2.32.3)\n",
            "Requirement already satisfied: setuptools in /usr/local/lib/python3.10/dist-packages (from tensorflow) (71.0.4)\n",
            "Requirement already satisfied: six>=1.12.0 in /usr/local/lib/python3.10/dist-packages (from tensorflow) (1.16.0)\n",
            "Requirement already satisfied: termcolor>=1.1.0 in /usr/local/lib/python3.10/dist-packages (from tensorflow) (2.5.0)\n",
            "Requirement already satisfied: typing-extensions>=3.6.6 in /usr/local/lib/python3.10/dist-packages (from tensorflow) (4.12.2)\n",
            "Requirement already satisfied: wrapt>=1.11.0 in /usr/local/lib/python3.10/dist-packages (from tensorflow) (1.16.0)\n",
            "Requirement already satisfied: grpcio<2.0,>=1.24.3 in /usr/local/lib/python3.10/dist-packages (from tensorflow) (1.64.1)\n",
            "Requirement already satisfied: tensorboard<2.18,>=2.17 in /usr/local/lib/python3.10/dist-packages (from tensorflow) (2.17.0)\n",
            "Requirement already satisfied: keras>=3.2.0 in /usr/local/lib/python3.10/dist-packages (from tensorflow) (3.4.1)\n",
            "Requirement already satisfied: tensorflow-io-gcs-filesystem>=0.23.1 in /usr/local/lib/python3.10/dist-packages (from tensorflow) (0.37.1)\n",
            "Requirement already satisfied: numpy<2.0.0,>=1.23.5 in /usr/local/lib/python3.10/dist-packages (from tensorflow) (1.26.4)\n",
            "Requirement already satisfied: wheel<1.0,>=0.23.0 in /usr/local/lib/python3.10/dist-packages (from astunparse>=1.6.0->tensorflow) (0.44.0)\n",
            "Requirement already satisfied: rich in /usr/local/lib/python3.10/dist-packages (from keras>=3.2.0->tensorflow) (13.9.2)\n",
            "Requirement already satisfied: namex in /usr/local/lib/python3.10/dist-packages (from keras>=3.2.0->tensorflow) (0.0.8)\n",
            "Requirement already satisfied: optree in /usr/local/lib/python3.10/dist-packages (from keras>=3.2.0->tensorflow) (0.13.0)\n",
            "Requirement already satisfied: charset-normalizer<4,>=2 in /usr/local/lib/python3.10/dist-packages (from requests<3,>=2.21.0->tensorflow) (3.4.0)\n",
            "Requirement already satisfied: idna<4,>=2.5 in /usr/local/lib/python3.10/dist-packages (from requests<3,>=2.21.0->tensorflow) (3.10)\n",
            "Requirement already satisfied: urllib3<3,>=1.21.1 in /usr/local/lib/python3.10/dist-packages (from requests<3,>=2.21.0->tensorflow) (2.2.3)\n",
            "Requirement already satisfied: certifi>=2017.4.17 in /usr/local/lib/python3.10/dist-packages (from requests<3,>=2.21.0->tensorflow) (2024.8.30)\n",
            "Requirement already satisfied: markdown>=2.6.8 in /usr/local/lib/python3.10/dist-packages (from tensorboard<2.18,>=2.17->tensorflow) (3.7)\n",
            "Requirement already satisfied: tensorboard-data-server<0.8.0,>=0.7.0 in /usr/local/lib/python3.10/dist-packages (from tensorboard<2.18,>=2.17->tensorflow) (0.7.2)\n",
            "Requirement already satisfied: werkzeug>=1.0.1 in /usr/local/lib/python3.10/dist-packages (from tensorboard<2.18,>=2.17->tensorflow) (3.0.4)\n",
            "Requirement already satisfied: MarkupSafe>=2.1.1 in /usr/local/lib/python3.10/dist-packages (from werkzeug>=1.0.1->tensorboard<2.18,>=2.17->tensorflow) (3.0.1)\n",
            "Requirement already satisfied: markdown-it-py>=2.2.0 in /usr/local/lib/python3.10/dist-packages (from rich->keras>=3.2.0->tensorflow) (3.0.0)\n",
            "Requirement already satisfied: pygments<3.0.0,>=2.13.0 in /usr/local/lib/python3.10/dist-packages (from rich->keras>=3.2.0->tensorflow) (2.18.0)\n",
            "Requirement already satisfied: mdurl~=0.1 in /usr/local/lib/python3.10/dist-packages (from markdown-it-py>=2.2.0->rich->keras>=3.2.0->tensorflow) (0.1.2)\n",
            "Requirement already satisfied: albumentations in /usr/local/lib/python3.10/dist-packages (1.4.15)\n",
            "Requirement already satisfied: numpy>=1.24.4 in /usr/local/lib/python3.10/dist-packages (from albumentations) (1.26.4)\n",
            "Requirement already satisfied: scipy>=1.10.0 in /usr/local/lib/python3.10/dist-packages (from albumentations) (1.13.1)\n",
            "Requirement already satisfied: scikit-image>=0.21.0 in /usr/local/lib/python3.10/dist-packages (from albumentations) (0.24.0)\n",
            "Requirement already satisfied: PyYAML in /usr/local/lib/python3.10/dist-packages (from albumentations) (6.0.2)\n",
            "Requirement already satisfied: pydantic>=2.7.0 in /usr/local/lib/python3.10/dist-packages (from albumentations) (2.9.2)\n",
            "Requirement already satisfied: albucore>=0.0.15 in /usr/local/lib/python3.10/dist-packages (from albumentations) (0.0.16)\n",
            "Requirement already satisfied: eval-type-backport in /usr/local/lib/python3.10/dist-packages (from albumentations) (0.2.0)\n",
            "Requirement already satisfied: opencv-python-headless>=4.9.0.80 in /usr/local/lib/python3.10/dist-packages (from albumentations) (4.10.0.84)\n",
            "Requirement already satisfied: annotated-types>=0.6.0 in /usr/local/lib/python3.10/dist-packages (from pydantic>=2.7.0->albumentations) (0.7.0)\n",
            "Requirement already satisfied: pydantic-core==2.23.4 in /usr/local/lib/python3.10/dist-packages (from pydantic>=2.7.0->albumentations) (2.23.4)\n",
            "Requirement already satisfied: typing-extensions>=4.6.1 in /usr/local/lib/python3.10/dist-packages (from pydantic>=2.7.0->albumentations) (4.12.2)\n",
            "Requirement already satisfied: networkx>=2.8 in /usr/local/lib/python3.10/dist-packages (from scikit-image>=0.21.0->albumentations) (3.4)\n",
            "Requirement already satisfied: pillow>=9.1 in /usr/local/lib/python3.10/dist-packages (from scikit-image>=0.21.0->albumentations) (10.4.0)\n",
            "Requirement already satisfied: imageio>=2.33 in /usr/local/lib/python3.10/dist-packages (from scikit-image>=0.21.0->albumentations) (2.35.1)\n",
            "Requirement already satisfied: tifffile>=2022.8.12 in /usr/local/lib/python3.10/dist-packages (from scikit-image>=0.21.0->albumentations) (2024.9.20)\n",
            "Requirement already satisfied: packaging>=21 in /usr/local/lib/python3.10/dist-packages (from scikit-image>=0.21.0->albumentations) (24.1)\n",
            "Requirement already satisfied: lazy-loader>=0.4 in /usr/local/lib/python3.10/dist-packages (from scikit-image>=0.21.0->albumentations) (0.4)\n",
            "Requirement already satisfied: matplotlib in /usr/local/lib/python3.10/dist-packages (3.7.1)\n",
            "Requirement already satisfied: contourpy>=1.0.1 in /usr/local/lib/python3.10/dist-packages (from matplotlib) (1.3.0)\n",
            "Requirement already satisfied: cycler>=0.10 in /usr/local/lib/python3.10/dist-packages (from matplotlib) (0.12.1)\n",
            "Requirement already satisfied: fonttools>=4.22.0 in /usr/local/lib/python3.10/dist-packages (from matplotlib) (4.54.1)\n",
            "Requirement already satisfied: kiwisolver>=1.0.1 in /usr/local/lib/python3.10/dist-packages (from matplotlib) (1.4.7)\n",
            "Requirement already satisfied: numpy>=1.20 in /usr/local/lib/python3.10/dist-packages (from matplotlib) (1.26.4)\n",
            "Requirement already satisfied: packaging>=20.0 in /usr/local/lib/python3.10/dist-packages (from matplotlib) (24.1)\n",
            "Requirement already satisfied: pillow>=6.2.0 in /usr/local/lib/python3.10/dist-packages (from matplotlib) (10.4.0)\n",
            "Requirement already satisfied: pyparsing>=2.3.1 in /usr/local/lib/python3.10/dist-packages (from matplotlib) (3.1.4)\n",
            "Requirement already satisfied: python-dateutil>=2.7 in /usr/local/lib/python3.10/dist-packages (from matplotlib) (2.8.2)\n",
            "Requirement already satisfied: six>=1.5 in /usr/local/lib/python3.10/dist-packages (from python-dateutil>=2.7->matplotlib) (1.16.0)\n",
            "Requirement already satisfied: scikit-learn in /usr/local/lib/python3.10/dist-packages (1.5.2)\n",
            "Requirement already satisfied: numpy>=1.19.5 in /usr/local/lib/python3.10/dist-packages (from scikit-learn) (1.26.4)\n",
            "Requirement already satisfied: scipy>=1.6.0 in /usr/local/lib/python3.10/dist-packages (from scikit-learn) (1.13.1)\n",
            "Requirement already satisfied: joblib>=1.2.0 in /usr/local/lib/python3.10/dist-packages (from scikit-learn) (1.4.2)\n",
            "Requirement already satisfied: threadpoolctl>=3.1.0 in /usr/local/lib/python3.10/dist-packages (from scikit-learn) (3.5.0)\n",
            "Requirement already satisfied: opencv-python in /usr/local/lib/python3.10/dist-packages (4.10.0.84)\n",
            "Requirement already satisfied: numpy>=1.21.2 in /usr/local/lib/python3.10/dist-packages (from opencv-python) (1.26.4)\n",
            "Requirement already satisfied: opencv-python-headless in /usr/local/lib/python3.10/dist-packages (4.10.0.84)\n",
            "Requirement already satisfied: numpy>=1.21.2 in /usr/local/lib/python3.10/dist-packages (from opencv-python-headless) (1.26.4)\n",
            "Requirement already satisfied: opencv-contrib-python in /usr/local/lib/python3.10/dist-packages (4.10.0.84)\n",
            "Requirement already satisfied: numpy>=1.21.2 in /usr/local/lib/python3.10/dist-packages (from opencv-contrib-python) (1.26.4)\n",
            "Requirement already satisfied: tqdm in /usr/local/lib/python3.10/dist-packages (4.66.5)\n"
          ]
        },
        {
          "output_type": "stream",
          "name": "stderr",
          "text": [
            "/usr/local/lib/python3.10/dist-packages/albumentations/__init__.py:13: UserWarning: A new version of Albumentations is available: 1.4.18 (you have 1.4.15). Upgrade using: pip install -U albumentations. To disable automatic update checks, set the environment variable NO_ALBUMENTATIONS_UPDATE to 1.\n",
            "  check_for_updates()\n"
          ]
        },
        {
          "output_type": "stream",
          "name": "stdout",
          "text": [
            "Drive already mounted at /content/drive; to attempt to forcibly remount, call drive.mount(\"/content/drive\", force_remount=True).\n"
          ]
        }
      ]
    },
    {
      "cell_type": "code",
      "source": [
        "\n",
        "# Checking the number of GPUs available\n",
        "print(\"Num GPUs Available: \", len(tf.config.list_physical_devices('GPU')))\n",
        "\n",
        "# Checking the TensorFlow version\n",
        "print(\"TensorFlow version:\", tf.__version__)\n"
      ],
      "metadata": {
        "colab": {
          "base_uri": "https://localhost:8080/"
        },
        "id": "GOSFIS3ORErl",
        "outputId": "22db9bb0-fe1d-466f-cd86-26e1dd3251a4"
      },
      "execution_count": 5,
      "outputs": [
        {
          "output_type": "stream",
          "name": "stdout",
          "text": [
            "Num GPUs Available:  1\n",
            "TensorFlow version: 2.17.0\n"
          ]
        }
      ]
    },
    {
      "cell_type": "code",
      "source": [
        "img_size = 352\n",
        "dataset_type = 'kvasir' # Options: kvasir/cvc-clinicdb/cvc-colondb/etis-laribpolypdb\n",
        "learning_rate = 1e-4\n",
        "seed_value = 58800\n",
        "filters = 17 # Number of filters, the paper presents the results with 17 and 34\n",
        "optimizer = tf.keras.optimizers.RMSprop(learning_rate=learning_rate)\n",
        "\n",
        "ct = datetime.now()\n",
        "\n",
        "model_type = \"DuckNet\"\n",
        "\n",
        "progress_path = '/content/drive/MyDrive/Colab Notebooks/DUCK-Net-Colab/ProgressFull/' + dataset_type + '_progress_csv_' + model_type + '_filters_' + str(filters) +  '_' + str(ct) + '.csv'\n",
        "progressfull_path = '/content/drive/MyDrive/Colab Notebooks/DUCK-Net-Colab/ProgressFull/' + dataset_type + '_progress_' + model_type + '_filters_' + str(filters) + '_' + str(ct) + '.txt'\n",
        "plot_path = '/content/drive/MyDrive/Colab Notebooks/DUCK-Net-Colab/ProgressFull/' + dataset_type + '_progress_plot_' + model_type + '_filters_' + str(filters) + '_' + str(ct) + '.png'\n",
        "model_path = '/content/drive/MyDrive/Colab Notebooks/DUCK-Net-Colab/ModelSaveTensorFLow/' + dataset_type + '/' + model_type + '_filters_' + str(filters) + '_' + str(ct)\n",
        "\n",
        "EPOCHS = 1\n",
        "min_loss_for_saving = 1\n"
      ],
      "metadata": {
        "id": "poRYiN4uRTS1"
      },
      "execution_count": 6,
      "outputs": []
    },
    {
      "cell_type": "code",
      "source": [
        "!ls \"/content/drive/MyDrive/Colab Notebooks/DUCK-Net-Colab/DataSet/Kvasir-SEG/train/images/\"\n",
        "!ls \"/content/drive/MyDrive/Colab Notebooks/DUCK-Net-Colab/DataSet/Kvasir-SEG/train/masks/\"\n"
      ],
      "metadata": {
        "colab": {
          "base_uri": "https://localhost:8080/"
        },
        "id": "An2lOV25cck5",
        "outputId": "4e9a42f1-4a8b-455f-df16-7f38125183c9"
      },
      "execution_count": 7,
      "outputs": [
        {
          "output_type": "stream",
          "name": "stdout",
          "text": [
            "0.jpg\t 166.jpg  231.jpg  298.jpg  363.jpg  429.jpg  495.jpg  560.jpg\t626.jpg  692.jpg  758.jpg\n",
            "100.jpg  167.jpg  232.jpg  299.jpg  364.jpg  42.jpg   496.jpg  561.jpg\t627.jpg  693.jpg  759.jpg\n",
            "101.jpg  168.jpg  233.jpg  29.jpg   365.jpg  430.jpg  497.jpg  562.jpg\t628.jpg  694.jpg  75.jpg\n",
            "102.jpg  169.jpg  234.jpg  2.jpg    366.jpg  431.jpg  498.jpg  563.jpg\t629.jpg  695.jpg  760.jpg\n",
            "103.jpg  16.jpg   235.jpg  300.jpg  367.jpg  432.jpg  499.jpg  564.jpg\t62.jpg\t 696.jpg  761.jpg\n",
            "104.jpg  170.jpg  236.jpg  301.jpg  368.jpg  433.jpg  49.jpg   565.jpg\t630.jpg  697.jpg  762.jpg\n",
            "105.jpg  171.jpg  237.jpg  302.jpg  369.jpg  434.jpg  4.jpg    566.jpg\t631.jpg  698.jpg  763.jpg\n",
            "106.jpg  172.jpg  238.jpg  303.jpg  36.jpg   435.jpg  500.jpg  567.jpg\t632.jpg  699.jpg  764.jpg\n",
            "107.jpg  173.jpg  239.jpg  304.jpg  370.jpg  436.jpg  501.jpg  568.jpg\t633.jpg  69.jpg   765.jpg\n",
            "108.jpg  174.jpg  23.jpg   305.jpg  371.jpg  437.jpg  502.jpg  569.jpg\t634.jpg  6.jpg\t  766.jpg\n",
            "109.jpg  175.jpg  240.jpg  306.jpg  372.jpg  438.jpg  503.jpg  56.jpg\t635.jpg  700.jpg  767.jpg\n",
            "10.jpg\t 176.jpg  241.jpg  307.jpg  373.jpg  439.jpg  504.jpg  570.jpg\t636.jpg  701.jpg  768.jpg\n",
            "110.jpg  177.jpg  242.jpg  308.jpg  374.jpg  43.jpg   505.jpg  571.jpg\t637.jpg  702.jpg  769.jpg\n",
            "111.jpg  178.jpg  243.jpg  309.jpg  375.jpg  440.jpg  506.jpg  572.jpg\t638.jpg  703.jpg  76.jpg\n",
            "112.jpg  179.jpg  244.jpg  30.jpg   376.jpg  441.jpg  507.jpg  573.jpg\t639.jpg  704.jpg  770.jpg\n",
            "113.jpg  17.jpg   245.jpg  310.jpg  377.jpg  442.jpg  508.jpg  574.jpg\t63.jpg\t 705.jpg  771.jpg\n",
            "114.jpg  180.jpg  246.jpg  311.jpg  378.jpg  443.jpg  509.jpg  575.jpg\t640.jpg  706.jpg  772.jpg\n",
            "115.jpg  181.jpg  247.jpg  312.jpg  379.jpg  444.jpg  50.jpg   576.jpg\t641.jpg  707.jpg  773.jpg\n",
            "116.jpg  182.jpg  248.jpg  313.jpg  37.jpg   445.jpg  510.jpg  577.jpg\t642.jpg  708.jpg  774.jpg\n",
            "117.jpg  183.jpg  249.jpg  314.jpg  380.jpg  446.jpg  511.jpg  578.jpg\t643.jpg  709.jpg  775.jpg\n",
            "118.jpg  184.jpg  24.jpg   315.jpg  381.jpg  447.jpg  512.jpg  579.jpg\t644.jpg  70.jpg   776.jpg\n",
            "119.jpg  185.jpg  250.jpg  316.jpg  382.jpg  448.jpg  513.jpg  57.jpg\t645.jpg  710.jpg  777.jpg\n",
            "11.jpg\t 186.jpg  251.jpg  317.jpg  383.jpg  449.jpg  514.jpg  580.jpg\t646.jpg  711.jpg  778.jpg\n",
            "120.jpg  187.jpg  252.jpg  318.jpg  384.jpg  44.jpg   515.jpg  581.jpg\t647.jpg  712.jpg  779.jpg\n",
            "121.jpg  188.jpg  253.jpg  319.jpg  385.jpg  450.jpg  516.jpg  582.jpg\t648.jpg  713.jpg  77.jpg\n",
            "122.jpg  189.jpg  254.jpg  31.jpg   386.jpg  451.jpg  517.jpg  583.jpg\t649.jpg  714.jpg  780.jpg\n",
            "123.jpg  18.jpg   255.jpg  320.jpg  387.jpg  452.jpg  518.jpg  584.jpg\t64.jpg\t 715.jpg  781.jpg\n",
            "124.jpg  190.jpg  256.jpg  321.jpg  388.jpg  453.jpg  519.jpg  585.jpg\t650.jpg  716.jpg  782.jpg\n",
            "125.jpg  191.jpg  257.jpg  322.jpg  389.jpg  454.jpg  51.jpg   586.jpg\t651.jpg  717.jpg  783.jpg\n",
            "126.jpg  192.jpg  258.jpg  323.jpg  38.jpg   455.jpg  520.jpg  587.jpg\t652.jpg  718.jpg  784.jpg\n",
            "127.jpg  193.jpg  259.jpg  324.jpg  390.jpg  456.jpg  521.jpg  588.jpg\t653.jpg  719.jpg  785.jpg\n",
            "128.jpg  194.jpg  25.jpg   325.jpg  391.jpg  457.jpg  522.jpg  589.jpg\t654.jpg  71.jpg   786.jpg\n",
            "129.jpg  195.jpg  260.jpg  326.jpg  392.jpg  458.jpg  523.jpg  58.jpg\t655.jpg  720.jpg  787.jpg\n",
            "12.jpg\t 196.jpg  261.jpg  327.jpg  393.jpg  459.jpg  524.jpg  590.jpg\t656.jpg  721.jpg  788.jpg\n",
            "130.jpg  197.jpg  262.jpg  328.jpg  394.jpg  45.jpg   525.jpg  591.jpg\t657.jpg  722.jpg  789.jpg\n",
            "131.jpg  198.jpg  263.jpg  329.jpg  395.jpg  460.jpg  526.jpg  592.jpg\t658.jpg  723.jpg  78.jpg\n",
            "132.jpg  199.jpg  264.jpg  32.jpg   396.jpg  461.jpg  527.jpg  593.jpg\t659.jpg  724.jpg  790.jpg\n",
            "133.jpg  19.jpg   265.jpg  330.jpg  397.jpg  462.jpg  528.jpg  594.jpg\t65.jpg\t 725.jpg  791.jpg\n",
            "134.jpg  1.jpg\t  266.jpg  331.jpg  398.jpg  463.jpg  529.jpg  595.jpg\t660.jpg  726.jpg  792.jpg\n",
            "135.jpg  200.jpg  267.jpg  332.jpg  399.jpg  464.jpg  52.jpg   596.jpg\t661.jpg  727.jpg  793.jpg\n",
            "136.jpg  201.jpg  268.jpg  333.jpg  39.jpg   465.jpg  530.jpg  597.jpg\t662.jpg  728.jpg  794.jpg\n",
            "137.jpg  202.jpg  269.jpg  334.jpg  3.jpg    466.jpg  531.jpg  598.jpg\t663.jpg  729.jpg  795.jpg\n",
            "138.jpg  203.jpg  26.jpg   335.jpg  400.jpg  467.jpg  532.jpg  599.jpg\t664.jpg  72.jpg   796.jpg\n",
            "139.jpg  204.jpg  270.jpg  336.jpg  401.jpg  468.jpg  533.jpg  59.jpg\t665.jpg  730.jpg  797.jpg\n",
            "13.jpg\t 205.jpg  271.jpg  337.jpg  402.jpg  469.jpg  534.jpg  5.jpg\t666.jpg  731.jpg  798.jpg\n",
            "140.jpg  206.jpg  272.jpg  338.jpg  403.jpg  46.jpg   535.jpg  600.jpg\t667.jpg  732.jpg  799.jpg\n",
            "141.jpg  207.jpg  273.jpg  339.jpg  404.jpg  470.jpg  536.jpg  601.jpg\t668.jpg  733.jpg  79.jpg\n",
            "142.jpg  208.jpg  274.jpg  33.jpg   405.jpg  471.jpg  537.jpg  602.jpg\t669.jpg  734.jpg  7.jpg\n",
            "143.jpg  209.jpg  275.jpg  340.jpg  406.jpg  472.jpg  538.jpg  603.jpg\t66.jpg\t 735.jpg  80.jpg\n",
            "144.jpg  20.jpg   276.jpg  341.jpg  407.jpg  473.jpg  539.jpg  604.jpg\t670.jpg  736.jpg  81.jpg\n",
            "145.jpg  210.jpg  277.jpg  342.jpg  408.jpg  474.jpg  53.jpg   605.jpg\t671.jpg  737.jpg  82.jpg\n",
            "146.jpg  211.jpg  278.jpg  343.jpg  409.jpg  475.jpg  540.jpg  606.jpg\t672.jpg  738.jpg  83.jpg\n",
            "147.jpg  212.jpg  279.jpg  344.jpg  40.jpg   476.jpg  541.jpg  607.jpg\t673.jpg  739.jpg  84.jpg\n",
            "148.jpg  213.jpg  27.jpg   345.jpg  410.jpg  477.jpg  542.jpg  608.jpg\t674.jpg  73.jpg   85.jpg\n",
            "149.jpg  214.jpg  280.jpg  346.jpg  411.jpg  478.jpg  543.jpg  609.jpg\t675.jpg  740.jpg  86.jpg\n",
            "14.jpg\t 215.jpg  281.jpg  347.jpg  412.jpg  479.jpg  544.jpg  60.jpg\t676.jpg  741.jpg  87.jpg\n",
            "150.jpg  216.jpg  282.jpg  348.jpg  413.jpg  47.jpg   545.jpg  610.jpg\t677.jpg  742.jpg  88.jpg\n",
            "151.jpg  217.jpg  283.jpg  349.jpg  414.jpg  480.jpg  546.jpg  611.jpg\t678.jpg  743.jpg  89.jpg\n",
            "152.jpg  218.jpg  284.jpg  34.jpg   415.jpg  481.jpg  547.jpg  612.jpg\t679.jpg  744.jpg  8.jpg\n",
            "153.jpg  219.jpg  285.jpg  350.jpg  416.jpg  482.jpg  548.jpg  613.jpg\t67.jpg\t 745.jpg  90.jpg\n",
            "154.jpg  21.jpg   286.jpg  351.jpg  417.jpg  483.jpg  549.jpg  614.jpg\t680.jpg  746.jpg  91.jpg\n",
            "155.jpg  220.jpg  287.jpg  352.jpg  418.jpg  484.jpg  54.jpg   615.jpg\t681.jpg  747.jpg  92.jpg\n",
            "156.jpg  221.jpg  288.jpg  353.jpg  419.jpg  485.jpg  550.jpg  616.jpg\t682.jpg  748.jpg  93.jpg\n",
            "157.jpg  222.jpg  289.jpg  354.jpg  41.jpg   486.jpg  551.jpg  617.jpg\t683.jpg  749.jpg  94.jpg\n",
            "158.jpg  223.jpg  28.jpg   355.jpg  420.jpg  487.jpg  552.jpg  618.jpg\t684.jpg  74.jpg   95.jpg\n",
            "159.jpg  224.jpg  290.jpg  356.jpg  421.jpg  488.jpg  553.jpg  619.jpg\t685.jpg  750.jpg  96.jpg\n",
            "15.jpg\t 225.jpg  291.jpg  357.jpg  422.jpg  489.jpg  554.jpg  61.jpg\t686.jpg  751.jpg  97.jpg\n",
            "160.jpg  226.jpg  292.jpg  358.jpg  423.jpg  48.jpg   555.jpg  620.jpg\t687.jpg  752.jpg  98.jpg\n",
            "161.jpg  227.jpg  293.jpg  359.jpg  424.jpg  490.jpg  556.jpg  621.jpg\t688.jpg  753.jpg  99.jpg\n",
            "162.jpg  228.jpg  294.jpg  35.jpg   425.jpg  491.jpg  557.jpg  622.jpg\t689.jpg  754.jpg  9.jpg\n",
            "163.jpg  229.jpg  295.jpg  360.jpg  426.jpg  492.jpg  558.jpg  623.jpg\t68.jpg\t 755.jpg\n",
            "164.jpg  22.jpg   296.jpg  361.jpg  427.jpg  493.jpg  559.jpg  624.jpg\t690.jpg  756.jpg\n",
            "165.jpg  230.jpg  297.jpg  362.jpg  428.jpg  494.jpg  55.jpg   625.jpg\t691.jpg  757.jpg\n",
            " 0.jpg\t        201.jpg        305.jpg\t      409.jpg\t     510.jpg   615.jpg\t      718.jpg\n",
            " 100.jpg        202.jpg        306.jpg\t      40.jpg\t     511.jpg   616.jpg\t      719.jpg\n",
            "'101 (1).jpg'   203.jpg        307.jpg\t      410.jpg\t     512.jpg   617.jpg\t      71.jpg\n",
            " 101.jpg        204.jpg        308.jpg\t      411.jpg\t     513.jpg   618.jpg\t      720.jpg\n",
            " 102.jpg        205.jpg        309.jpg\t      412.jpg\t     514.jpg   619.jpg\t      721.jpg\n",
            " 103.jpg        206.jpg        30.jpg\t      413.jpg\t     515.jpg   61.jpg\t      722.jpg\n",
            " 104.jpg        207.jpg        310.jpg\t      414.jpg\t     516.jpg   620.jpg\t      723.jpg\n",
            " 105.jpg        208.jpg        311.jpg\t      415.jpg\t     517.jpg   621.jpg\t      724.jpg\n",
            " 106.jpg        209.jpg        312.jpg\t      416.jpg\t     518.jpg   622.jpg\t      725.jpg\n",
            " 107.jpg        20.jpg\t       313.jpg\t      417.jpg\t     519.jpg   623.jpg\t      726.jpg\n",
            " 108.jpg        210.jpg        314.jpg\t      418.jpg\t     51.jpg    624.jpg\t      727.jpg\n",
            " 109.jpg        211.jpg        315.jpg\t      419.jpg\t     520.jpg   625.jpg\t      728.jpg\n",
            " 10.jpg         212.jpg        316.jpg\t      41.jpg\t     521.jpg   626.jpg\t      729.jpg\n",
            " 110.jpg        213.jpg       '317 (1).jpg'   420.jpg\t     522.jpg   627.jpg\t      72.jpg\n",
            " 111.jpg        214.jpg        317.jpg\t      421.jpg\t     523.jpg   628.jpg\t      730.jpg\n",
            " 112.jpg        215.jpg        318.jpg\t      422.jpg\t     524.jpg   629.jpg\t      731.jpg\n",
            " 113.jpg        216.jpg        319.jpg\t      423.jpg\t     525.jpg   62.jpg\t      732.jpg\n",
            " 114.jpg        217.jpg        31.jpg\t      424.jpg\t     526.jpg   630.jpg\t      733.jpg\n",
            "'115 (1).jpg'   218.jpg        320.jpg\t      425.jpg\t     527.jpg   631.jpg\t      734.jpg\n",
            " 115.jpg        219.jpg        321.jpg\t      426.jpg\t     528.jpg   632.jpg\t      735.jpg\n",
            " 116.jpg        21.jpg\t       322.jpg\t      427.jpg\t     529.jpg   633.jpg\t      736.jpg\n",
            " 117.jpg        220.jpg        323.jpg\t      428.jpg\t     52.jpg    634.jpg\t      737.jpg\n",
            " 118.jpg        221.jpg        324.jpg\t      429.jpg\t     530.jpg   635.jpg\t      738.jpg\n",
            " 119.jpg        222.jpg        325.jpg\t      42.jpg\t     531.jpg   636.jpg\t      739.jpg\n",
            " 11.jpg         223.jpg        326.jpg\t      430.jpg\t     532.jpg   637.jpg\t      73.jpg\n",
            " 120.jpg        224.jpg        327.jpg\t      431.jpg\t     533.jpg   638.jpg\t      740.jpg\n",
            " 121.jpg        225.jpg        328.jpg\t      432.jpg\t     534.jpg   639.jpg\t      741.jpg\n",
            " 122.jpg        226.jpg        329.jpg\t      433.jpg\t     535.jpg   63.jpg\t      742.jpg\n",
            " 123.jpg        227.jpg        32.jpg\t      434.jpg\t     536.jpg   640.jpg\t      743.jpg\n",
            " 124.jpg        228.jpg        330.jpg\t      435.jpg\t     537.jpg   641.jpg\t      744.jpg\n",
            " 125.jpg        229.jpg        331.jpg\t      436.jpg\t     538.jpg   642.jpg\t      745.jpg\n",
            " 126.jpg        22.jpg\t       332.jpg\t      437.jpg\t     539.jpg   643.jpg\t      746.jpg\n",
            " 127.jpg        230.jpg        333.jpg\t      438.jpg\t     53.jpg    644.jpg\t      747.jpg\n",
            " 128.jpg        231.jpg        334.jpg\t      439.jpg\t     540.jpg   645.jpg\t      748.jpg\n",
            "'129 (1).jpg'   232.jpg        335.jpg\t      43.jpg\t     541.jpg   646.jpg\t      749.jpg\n",
            " 129.jpg        233.jpg        336.jpg\t      440.jpg\t     542.jpg   647.jpg\t      74.jpg\n",
            " 12.jpg         234.jpg        337.jpg\t      441.jpg\t     543.jpg   648.jpg\t      750.jpg\n",
            " 130.jpg        235.jpg        338.jpg\t      442.jpg\t     544.jpg   649.jpg\t      751.jpg\n",
            " 131.jpg        236.jpg        339.jpg\t      443.jpg\t     545.jpg   64.jpg\t      752.jpg\n",
            " 132.jpg        237.jpg        33.jpg\t      444.jpg\t     546.jpg   650.jpg\t      753.jpg\n",
            " 133.jpg        238.jpg        340.jpg\t      445.jpg\t     547.jpg   651.jpg\t      754.jpg\n",
            " 134.jpg        239.jpg        341.jpg\t      446.jpg\t     548.jpg   652.jpg\t      755.jpg\n",
            " 135.jpg        23.jpg\t       342.jpg\t      447.jpg\t     549.jpg   653.jpg\t      756.jpg\n",
            " 136.jpg        240.jpg        343.jpg\t      448.jpg\t     54.jpg    654.jpg\t      757.jpg\n",
            " 137.jpg        241.jpg        344.jpg\t      449.jpg\t     550.jpg   655.jpg\t      758.jpg\n",
            " 138.jpg        242.jpg        345.jpg\t      44.jpg\t     551.jpg   656.jpg\t      759.jpg\n",
            " 139.jpg        243.jpg        346.jpg\t      450.jpg\t     552.jpg   657.jpg\t      75.jpg\n",
            " 13.jpg         244.jpg        347.jpg\t      451.jpg\t     553.jpg   658.jpg\t      760.jpg\n",
            " 140.jpg        245.jpg        348.jpg\t      452.jpg\t     554.jpg   659.jpg\t      761.jpg\n",
            " 141.jpg        246.jpg        349.jpg\t      453.jpg\t     555.jpg   65.jpg\t      762.jpg\n",
            " 142.jpg        247.jpg        34.jpg\t      454.jpg\t     556.jpg   660.jpg\t      763.jpg\n",
            " 143.jpg        248.jpg        350.jpg\t      455.jpg\t     557.jpg   661.jpg\t      764.jpg\n",
            " 144.jpg        249.jpg        351.jpg\t      456.jpg\t     558.jpg   662.jpg\t      765.jpg\n",
            " 145.jpg        24.jpg\t       352.jpg\t      457.jpg\t     559.jpg   663.jpg\t      766.jpg\n",
            " 146.jpg        250.jpg        353.jpg\t      458.jpg\t     55.jpg    664.jpg\t      767.jpg\n",
            " 147.jpg        251.jpg        354.jpg\t     '459 (1).jpg'   560.jpg   665.jpg\t      768.jpg\n",
            " 148.jpg        252.jpg        355.jpg\t      459.jpg\t     561.jpg   666.jpg\t      769.jpg\n",
            " 149.jpg        253.jpg        356.jpg\t      45.jpg\t     562.jpg  '667 (1).jpg'   76.jpg\n",
            " 14.jpg         254.jpg        357.jpg\t      460.jpg\t     563.jpg   667.jpg\t      770.jpg\n",
            " 150.jpg        255.jpg        358.jpg\t      461.jpg\t     564.jpg   668.jpg\t      771.jpg\n",
            " 151.jpg        256.jpg        359.jpg\t      462.jpg\t     565.jpg   669.jpg\t      772.jpg\n",
            " 152.jpg        257.jpg        35.jpg\t      463.jpg\t     566.jpg   66.jpg\t      773.jpg\n",
            " 153.jpg        258.jpg        360.jpg\t      464.jpg\t     567.jpg   670.jpg\t      774.jpg\n",
            " 154.jpg        259.jpg        361.jpg\t     '465 (1).jpg'   568.jpg   671.jpg\t      775.jpg\n",
            " 155.jpg        25.jpg\t       362.jpg\t      465.jpg\t     569.jpg   672.jpg\t      776.jpg\n",
            " 156.jpg        260.jpg        363.jpg\t      466.jpg\t     56.jpg   '673 (1).jpg'   777.jpg\n",
            " 157.jpg        261.jpg        364.jpg\t      467.jpg\t     570.jpg   673.jpg\t      778.jpg\n",
            " 158.jpg        262.jpg        365.jpg\t      468.jpg\t     571.jpg   674.jpg\t      779.jpg\n",
            " 159.jpg        263.jpg        366.jpg\t      469.jpg\t     572.jpg   675.jpg\t      77.jpg\n",
            " 15.jpg         264.jpg        367.jpg\t      46.jpg\t     573.jpg   676.jpg\t      780.jpg\n",
            " 160.jpg        265.jpg        368.jpg\t      470.jpg\t     574.jpg   677.jpg\t      781.jpg\n",
            " 161.jpg        266.jpg        369.jpg\t     '471 (1).jpg'   575.jpg   678.jpg\t      782.jpg\n",
            " 162.jpg        267.jpg        36.jpg\t      471.jpg\t     576.jpg   679.jpg\t      783.jpg\n",
            " 163.jpg        268.jpg        370.jpg\t      472.jpg\t     577.jpg   67.jpg\t      784.jpg\n",
            " 164.jpg        269.jpg        371.jpg\t      473.jpg\t     578.jpg   680.jpg\t      785.jpg\n",
            " 165.jpg        26.jpg\t       372.jpg\t      474.jpg\t     579.jpg   681.jpg\t      786.jpg\n",
            " 166.jpg        270.jpg        373.jpg\t      475.jpg\t     57.jpg    682.jpg\t      787.jpg\n",
            " 167.jpg        271.jpg        374.jpg\t      476.jpg\t     580.jpg   683.jpg\t      788.jpg\n",
            " 168.jpg        272.jpg        375.jpg\t      477.jpg\t     581.jpg   684.jpg\t      789.jpg\n",
            " 169.jpg        273.jpg        376.jpg\t      478.jpg\t     582.jpg   685.jpg\t      78.jpg\n",
            " 16.jpg         274.jpg        377.jpg\t      479.jpg\t     583.jpg   686.jpg\t      790.jpg\n",
            " 170.jpg        275.jpg        378.jpg\t      47.jpg\t     584.jpg   687.jpg\t      791.jpg\n",
            " 171.jpg        276.jpg        379.jpg\t      480.jpg\t     585.jpg   688.jpg\t      792.jpg\n",
            " 172.jpg        277.jpg        37.jpg\t      481.jpg\t     586.jpg   689.jpg\t      793.jpg\n",
            " 173.jpg        278.jpg        380.jpg\t      482.jpg\t     587.jpg   68.jpg\t      794.jpg\n",
            " 174.jpg        279.jpg        381.jpg\t      483.jpg\t     588.jpg   690.jpg\t      795.jpg\n",
            " 175.jpg        27.jpg\t       382.jpg\t      484.jpg\t     589.jpg   691.jpg\t      796.jpg\n",
            " 176.jpg        280.jpg        383.jpg\t      485.jpg\t     58.jpg    692.jpg\t      797.jpg\n",
            " 177.jpg        281.jpg        384.jpg\t      486.jpg\t     590.jpg   693.jpg\t      798.jpg\n",
            " 178.jpg        282.jpg        385.jpg\t      487.jpg\t     591.jpg   694.jpg\t      799.jpg\n",
            " 179.jpg        283.jpg        386.jpg\t      488.jpg\t     592.jpg   695.jpg\t      79.jpg\n",
            " 17.jpg         284.jpg        387.jpg\t      489.jpg\t     593.jpg   696.jpg\t      7.jpg\n",
            " 180.jpg        285.jpg        388.jpg\t      48.jpg\t     594.jpg   697.jpg\t      80.jpg\n",
            " 181.jpg        286.jpg        389.jpg\t      490.jpg\t     595.jpg   698.jpg\t      81.jpg\n",
            " 182.jpg        287.jpg        38.jpg\t      491.jpg\t     596.jpg   699.jpg\t      82.jpg\n",
            " 183.jpg        288.jpg        390.jpg\t      492.jpg\t     597.jpg   69.jpg\t      83.jpg\n",
            " 184.jpg        289.jpg        391.jpg\t      493.jpg\t     598.jpg   6.jpg\t      84.jpg\n",
            " 185.jpg        28.jpg\t       392.jpg\t      494.jpg\t     599.jpg   700.jpg\t      85.jpg\n",
            " 186.jpg        290.jpg        393.jpg\t      495.jpg\t     59.jpg    701.jpg\t      86.jpg\n",
            " 187.jpg        291.jpg        394.jpg\t      496.jpg\t     5.jpg     702.jpg\t      87.jpg\n",
            " 188.jpg        292.jpg        395.jpg\t      497.jpg\t     600.jpg   703.jpg\t      88.jpg\n",
            " 189.jpg        293.jpg        396.jpg\t      498.jpg\t     601.jpg   704.jpg\t      89.jpg\n",
            " 18.jpg         294.jpg        397.jpg\t      499.jpg\t     602.jpg   705.jpg\t      8.jpg\n",
            " 190.jpg        295.jpg        398.jpg\t      49.jpg\t     603.jpg   706.jpg\t      90.jpg\n",
            " 191.jpg        296.jpg        399.jpg\t      4.jpg\t     604.jpg   707.jpg\t      91.jpg\n",
            " 192.jpg        297.jpg        39.jpg\t      500.jpg\t     605.jpg   708.jpg\t      92.jpg\n",
            " 193.jpg        298.jpg        3.jpg\t      501.jpg\t     606.jpg   709.jpg\t      93.jpg\n",
            " 194.jpg        299.jpg        400.jpg\t      502.jpg\t     607.jpg   70.jpg\t      94.jpg\n",
            " 195.jpg        29.jpg\t       401.jpg\t      503.jpg\t     608.jpg   710.jpg\t      95.jpg\n",
            " 196.jpg        2.jpg\t       402.jpg\t      504.jpg\t     609.jpg   711.jpg\t      96.jpg\n",
            " 197.jpg        300.jpg        403.jpg\t      505.jpg\t     60.jpg    712.jpg\t      97.jpg\n",
            " 198.jpg        301.jpg        404.jpg\t      506.jpg\t     610.jpg   713.jpg\t      98.jpg\n",
            " 199.jpg        302.jpg        405.jpg\t      507.jpg\t     611.jpg   714.jpg\t      99.jpg\n",
            " 19.jpg        '303 (1).jpg'   406.jpg\t      508.jpg\t     612.jpg   715.jpg\t      9.jpg\n",
            " 1.jpg\t        303.jpg        407.jpg\t      509.jpg\t     613.jpg   716.jpg\n",
            " 200.jpg        304.jpg        408.jpg\t      50.jpg\t     614.jpg   717.jpg\n"
          ]
        }
      ]
    },
    {
      "cell_type": "code",
      "source": [
        "X, Y = ImageLoader2D.load_data(img_size, img_size, -1, 'kvasir')\n"
      ],
      "metadata": {
        "colab": {
          "base_uri": "https://localhost:8080/"
        },
        "id": "3OgUrwrnRZAO",
        "outputId": "54e3d2af-db88-455e-9737-bdeff7d9b856"
      },
      "execution_count": 8,
      "outputs": [
        {
          "output_type": "stream",
          "name": "stdout",
          "text": [
            "/content/drive/MyDrive/Colab Notebooks/DUCK-Net-Colab/DataSet/Kvasir-SEG/train/\n",
            "ETst\n",
            "/content/drive/MyDrive/Colab Notebooks/DUCK-Net-Colab/DataSet/Kvasir-SEG/train/images/\n",
            "Number of images found: 800\n",
            "Resizing training images and masks: 800\n"
          ]
        },
        {
          "output_type": "stream",
          "name": "stderr",
          "text": [
            "800it [07:04,  1.89it/s]\n"
          ]
        }
      ]
    },
    {
      "cell_type": "markdown",
      "source": [
        "#Splitting the data, seed for reproducibility"
      ],
      "metadata": {
        "id": "wp-Hm-0seGCT"
      }
    },
    {
      "cell_type": "code",
      "source": [
        "if X.size > 0 and Y.size > 0:\n",
        "    print(f\"Shape of X: {X.shape}\")\n",
        "    print(f\"Shape of Y: {Y.shape}\")\n",
        "    x_train, x_test, y_train, y_test = train_test_split(X, Y, test_size=0.1, shuffle=True, random_state=seed_value)\n",
        "    x_train, x_valid, y_train, y_valid = train_test_split(x_train, y_train, test_size=0.111, shuffle=True, random_state=seed_value)\n",
        "else:\n",
        "    print(\"Dataset is empty. Cannot perform train-test split.\")\n"
      ],
      "metadata": {
        "id": "Ae0-5SDXeLbF",
        "colab": {
          "base_uri": "https://localhost:8080/"
        },
        "outputId": "92b832d1-ca6a-4593-a14f-6eef3ad4cd37"
      },
      "execution_count": 9,
      "outputs": [
        {
          "output_type": "stream",
          "name": "stdout",
          "text": [
            "Shape of X: (800, 352, 352, 3)\n",
            "Shape of Y: (800, 352, 352, 1)\n"
          ]
        }
      ]
    },
    {
      "cell_type": "markdown",
      "source": [
        "# Defining the augmentations"
      ],
      "metadata": {
        "id": "GhTHdTrlfXI5"
      }
    },
    {
      "cell_type": "code",
      "source": [
        "\n",
        "aug_train = albu.Compose([\n",
        "    albu.HorizontalFlip(),\n",
        "    albu.VerticalFlip(),\n",
        "    albu.ColorJitter(brightness=(0.6,1.6), contrast=0.2, saturation=0.1, hue=0.01, always_apply=True),\n",
        "    albu.Affine(scale=(0.5,1.5), translate_percent=(-0.125,0.125), rotate=(-180,180), shear=(-22.5,22), always_apply=True),\n",
        "])\n",
        "\n",
        "\n",
        "def augment_images():\n",
        "    x_train_out = []\n",
        "    y_train_out = []\n",
        "\n",
        "    for i in range (len(x_train)):\n",
        "        ug = aug_train(image=x_train[i], mask=y_train[i])\n",
        "        x_train_out.append(ug['image'])\n",
        "        y_train_out.append(ug['mask'])\n",
        "\n",
        "    return np.array(x_train_out), np.array(y_train_out)\n"
      ],
      "metadata": {
        "id": "VkGYnJgGfTa3"
      },
      "execution_count": 10,
      "outputs": []
    },
    {
      "cell_type": "markdown",
      "source": [
        "# Creating the model"
      ],
      "metadata": {
        "id": "OkRXJtiNfyia"
      }
    },
    {
      "cell_type": "code",
      "source": [
        "model = DUCK_Net.create_model(img_height=img_size, img_width=img_size, input_chanels=3, out_classes=1, starting_filters=filters)\n"
      ],
      "metadata": {
        "id": "uK_TyK_3f0fs",
        "colab": {
          "base_uri": "https://localhost:8080/"
        },
        "outputId": "8485553a-dbf3-481f-a37f-6fa77d9e385e"
      },
      "execution_count": 11,
      "outputs": [
        {
          "output_type": "stream",
          "name": "stdout",
          "text": [
            "Starting DUCK-Net\n"
          ]
        }
      ]
    },
    {
      "cell_type": "markdown",
      "source": [
        "# Compiling the model"
      ],
      "metadata": {
        "id": "oSo1mIqrf8qO"
      }
    },
    {
      "cell_type": "code",
      "source": [
        "model.compile(optimizer=optimizer, loss=dice_metric_loss)\n"
      ],
      "metadata": {
        "id": "otgDDAG9f4Rt"
      },
      "execution_count": 12,
      "outputs": []
    },
    {
      "cell_type": "markdown",
      "source": [
        "# Training the model"
      ],
      "metadata": {
        "id": "3LSqXzvWgGmP"
      }
    },
    {
      "cell_type": "code",
      "source": [
        "\n",
        "step = 0\n",
        "\n",
        "for epoch in range(0, EPOCHS):\n",
        "\n",
        "    print(f'Training, epoch {epoch}')\n",
        "    print('Learning Rate: ' + str(learning_rate))\n",
        "\n",
        "    step += 1\n",
        "\n",
        "    image_augmented, mask_augmented = augment_images()\n",
        "\n",
        "    csv_logger = CSVLogger(progress_path, append=True, separator=';')\n",
        "\n",
        "    model.fit(x=image_augmented, y=mask_augmented, epochs=1, batch_size=4, validation_data=(x_valid, y_valid), verbose=1, callbacks=[csv_logger])\n",
        "\n",
        "    prediction_valid = model.predict(x_valid, verbose=0)\n",
        "    loss_valid = dice_metric_loss(y_valid, prediction_valid)\n",
        "\n",
        "    loss_valid = loss_valid.numpy()\n",
        "    print(\"Loss Validation: \" + str(loss_valid))\n",
        "\n",
        "    prediction_test = model.predict(x_test, verbose=0)\n",
        "    loss_test = dice_metric_loss(y_test, prediction_test)\n",
        "    loss_test = loss_test.numpy()\n",
        "    print(\"Loss Test: \" + str(loss_test))\n",
        "\n",
        "    with open(progressfull_path, 'a') as f:\n",
        "        f.write('epoch: ' + str(epoch) + '\\nval_loss: ' + str(loss_valid) + '\\ntest_loss: ' + str(loss_test) + '\\n\\n\\n')\n",
        "\n",
        "    if min_loss_for_saving > loss_valid:\n",
        "        min_loss_for_saving = loss_valid\n",
        "        print(\"Saved model with val_loss: \", loss_valid)\n",
        "        model.save(model_path + '.h5')\n",
        "\n",
        "    del image_augmented\n",
        "    del mask_augmented\n",
        "\n",
        "    gc.collect()"
      ],
      "metadata": {
        "id": "28PS-4JLgNn2",
        "colab": {
          "base_uri": "https://localhost:8080/"
        },
        "outputId": "2da356b9-7d04-4b08-9864-6796c9b4122f"
      },
      "execution_count": 13,
      "outputs": [
        {
          "output_type": "stream",
          "name": "stdout",
          "text": [
            "Training, epoch 0\n",
            "Learning Rate: 0.0001\n",
            "\u001b[1m160/160\u001b[0m \u001b[32m━━━━━━━━━━━━━━━━━━━━\u001b[0m\u001b[37m\u001b[0m \u001b[1m485s\u001b[0m 981ms/step - loss: 0.7013 - val_loss: 0.7924\n",
            "Loss Validation: 0.77991176\n"
          ]
        },
        {
          "output_type": "stream",
          "name": "stderr",
          "text": [
            "WARNING:absl:You are saving your model as an HDF5 file via `model.save()` or `keras.saving.save_model(model)`. This file format is considered legacy. We recommend using instead the native Keras format, e.g. `model.save('my_model.keras')` or `keras.saving.save_model(model, 'my_model.keras')`. \n"
          ]
        },
        {
          "output_type": "stream",
          "name": "stdout",
          "text": [
            "Loss Test: 0.76853824\n",
            "Saved model with val_loss:  0.77991176\n"
          ]
        }
      ]
    },
    {
      "cell_type": "markdown",
      "source": [
        "# Assuming you have a trained model named 'model'\n",
        "\n",
        "# Generate predictions for training, testing, and validation datasets"
      ],
      "metadata": {
        "id": "6ZVKi9_HgYAs"
      }
    },
    {
      "cell_type": "code",
      "source": [
        "prediction_train = model.predict(x_train)\n",
        "prediction_test = model.predict(x_test)\n",
        "prediction_valid = model.predict(x_valid)"
      ],
      "metadata": {
        "id": "XGIc4dhNgex1",
        "colab": {
          "base_uri": "https://localhost:8080/"
        },
        "outputId": "6c3eb512-4b31-41f6-9615-8cc2345ddddf"
      },
      "execution_count": 14,
      "outputs": [
        {
          "output_type": "stream",
          "name": "stdout",
          "text": [
            "\u001b[1m20/20\u001b[0m \u001b[32m━━━━━━━━━━━━━━━━━━━━\u001b[0m\u001b[37m\u001b[0m \u001b[1m25s\u001b[0m 1s/step\n",
            "\u001b[1m3/3\u001b[0m \u001b[32m━━━━━━━━━━━━━━━━━━━━\u001b[0m\u001b[37m\u001b[0m \u001b[1m3s\u001b[0m 1s/step\n",
            "\u001b[1m3/3\u001b[0m \u001b[32m━━━━━━━━━━━━━━━━━━━━\u001b[0m\u001b[37m\u001b[0m \u001b[1m3s\u001b[0m 1s/step\n"
          ]
        }
      ]
    },
    {
      "cell_type": "markdown",
      "source": [
        "# Calculate recall scores"
      ],
      "metadata": {
        "id": "izc-7sGygoyO"
      }
    },
    {
      "cell_type": "code",
      "source": [
        "recall_test = recall_score(np.ndarray.flatten(np.array(y_test, dtype=bool)),\n",
        "                           np.ndarray.flatten(prediction_test > 0.5))\n",
        "recall_valid = recall_score(np.ndarray.flatten(np.array(y_valid, dtype=bool)),\n",
        "                            np.ndarray.flatten(prediction_valid > 0.5))\n",
        "\n",
        "print(\"Recall finished\")\n"
      ],
      "metadata": {
        "id": "17riA1Fegnfn",
        "colab": {
          "base_uri": "https://localhost:8080/"
        },
        "outputId": "127331f0-36b5-44dc-eab5-90988edaf657"
      },
      "execution_count": 15,
      "outputs": [
        {
          "output_type": "stream",
          "name": "stdout",
          "text": [
            "Recall finished\n"
          ]
        }
      ]
    },
    {
      "cell_type": "markdown",
      "source": [
        "# Calculate Accuracy Scores"
      ],
      "metadata": {
        "id": "7IX9-dBpgxMp"
      }
    },
    {
      "cell_type": "code",
      "source": [
        "accuracy_train = accuracy_score(np.ndarray.flatten(np.array(y_train, dtype=bool)),\n",
        "                                np.ndarray.flatten(prediction_train > 0.5))\n",
        "accuracy_test = accuracy_score(np.ndarray.flatten(np.array(y_test, dtype=bool)),\n",
        "                               np.ndarray.flatten(prediction_test > 0.5))\n",
        "accuracy_valid = accuracy_score(np.ndarray.flatten(np.array(y_valid, dtype=bool)),\n",
        "                                np.ndarray.flatten(prediction_valid > 0.5))\n",
        "\n",
        "print(\"Accuracy finished\")"
      ],
      "metadata": {
        "id": "TffP6k92g3Xl",
        "colab": {
          "base_uri": "https://localhost:8080/"
        },
        "outputId": "3411e698-ff55-42dd-feaf-4132906a05f1"
      },
      "execution_count": 16,
      "outputs": [
        {
          "output_type": "stream",
          "name": "stdout",
          "text": [
            "Accuracy finished\n"
          ]
        }
      ]
    },
    {
      "cell_type": "markdown",
      "source": [
        "# Construct the final file name"
      ],
      "metadata": {
        "id": "XWMLL67Qg5kY"
      }
    },
    {
      "cell_type": "code",
      "source": [
        "final_file = 'results_' + model_type + '_' + str(filters) + '_' + dataset_type + '.txt'\n",
        "print(final_file)\n"
      ],
      "metadata": {
        "id": "px05LBOihBoi",
        "colab": {
          "base_uri": "https://localhost:8080/"
        },
        "outputId": "6b5d2b3e-c31c-440e-ebc5-2ad68aeb2e3c"
      },
      "execution_count": 17,
      "outputs": [
        {
          "output_type": "stream",
          "name": "stdout",
          "text": [
            "results_DuckNet_17_kvasir.txt\n"
          ]
        }
      ]
    },
    {
      "cell_type": "markdown",
      "source": [
        "# Write results to final file name"
      ],
      "metadata": {
        "id": "Z4oTTCAXgmaT"
      }
    },
    {
      "cell_type": "code",
      "source": [
        "with open(final_file, 'a') as f:\n",
        "    f.write(dataset_type + '\\n\\n')\n",
        "    f.write('recall_test: ' + str(recall_test) + ' recall_valid: ' + str(recall_valid) + '\\n\\n')\n",
        "    f.write('accuracy_train: ' + str(accuracy_train) + ' accuracy_test: ' + str(accuracy_test) + ' accuracy_valid: ' + str(accuracy_valid) + '\\n\\n')\n"
      ],
      "metadata": {
        "id": "YHF2QBKchgi3"
      },
      "execution_count": 18,
      "outputs": []
    }
  ]
}